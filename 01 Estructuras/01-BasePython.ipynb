{
 "cells": [
  {
   "cell_type": "code",
   "execution_count": null,
   "metadata": {},
   "outputs": [],
   "source": [
    "x = 10\n",
    "print(\"El Resultado es:\"+ str(x))"
   ]
  },
  {
   "cell_type": "code",
   "execution_count": 4,
   "metadata": {},
   "outputs": [
    {
     "name": "stdout",
     "output_type": "stream",
     "text": [
      "La suma es: 57.900000000000006\n"
     ]
    }
   ],
   "source": [
    "x = 45.6\n",
    "y = 12.3\n",
    "\n",
    "print(\"La suma es: \" + str (x+y))"
   ]
  },
  {
   "cell_type": "code",
   "execution_count": null,
   "metadata": {},
   "outputs": [],
   "source": [
    "#Utilizando el string literal\n",
    "print('La suma de' + str(x) ' + ' + str(y) + ' = ' + )"
   ]
  },
  {
   "cell_type": "code",
   "execution_count": null,
   "metadata": {},
   "outputs": [],
   "source": [
    "print('La araña' + 'me mordio el dedo')\n",
    "x = 20\n",
    "print('La araña' , 'me mordio' , 'mis' , x, 'dedos')\n",
    "\n",
    "print('Ya tenemos' , 'hambre')"
   ]
  },
  {
   "cell_type": "code",
   "execution_count": null,
   "metadata": {},
   "outputs": [],
   "source": [
    "print('Hola Seño')\n",
    "print()\n",
    "print('hola Benito')\n"
   ]
  },
  {
   "cell_type": "code",
   "execution_count": null,
   "metadata": {},
   "outputs": [],
   "source": [
    "print('Hola como estas vaca grande',end='\\n')\n",
    "print('Hola yo soy tu pitufo')\n"
   ]
  },
  {
   "cell_type": "code",
   "execution_count": null,
   "metadata": {},
   "outputs": [],
   "source": [
    "print('Hola soy tu miche', end =\"\")\n",
    "print('Con limon y sal')"
   ]
  },
  {
   "cell_type": "code",
   "execution_count": null,
   "metadata": {},
   "outputs": [],
   "source": [
    "print('Hola mundo', end='*')\n",
    "print('estoy aqui')"
   ]
  },
  {
   "cell_type": "markdown",
   "metadata": {},
   "source": [
    "Para usarlo, es necesario conocer algunas reglas:\n",
    "\n",
    "- Un argumento de palabra clave consta de tres elementos: una palabra clave se identifica el argumento (end aquí); un signo de igual (=); y un valor asignado a ese argumento;\n",
    "- cualquier argumento de palabra clave debe colocarse después del último argumento posicional (esto es muy importante)\n",
    "\n",
    "En nuestro ejemplo, hemos utilizado el argumento de palabra clave end, y lo hemos configurado como cadena que contiene un espacio\n",
    "\n",
    "Como puedes ver, el argumento de palabra clave end determina los caracteres que la función print() envía a la salida una vez que llega al final de sus argumentos posicionales.\n",
    "\n",
    "El comportamiento predeterminado refleja la situación en la que el argumento de palabra clave end se usa implícitamente de la siguiente manera: end=\"\\n\"."
   ]
  },
  {
   "cell_type": "code",
   "execution_count": null,
   "metadata": {},
   "outputs": [],
   "source": [
    "#Palabra clave sep\n",
    "\n",
    "print('Hola', 'Como', 'estas', 'America', 'Campion', sep='-')"
   ]
  },
  {
   "cell_type": "markdown",
   "metadata": {},
   "source": [
    "Operadores"
   ]
  },
  {
   "cell_type": "markdown",
   "metadata": {},
   "source": [
    "## Operadores Aritmeticos"
   ]
  },
  {
   "cell_type": "markdown",
   "metadata": {},
   "source": [
    "|Operador|Descripcion|\n",
    "|--|--|\n",
    "|+|suma|\n",
    "|+|resta|\n",
    "|*|multiplicacion|\n",
    "|/|Division|\n",
    "|//|Division Entera|\n",
    "|**|Potencia|\n"
   ]
  }
 ],
 "metadata": {
  "kernelspec": {
   "display_name": "Python 3",
   "language": "python",
   "name": "python3"
  },
  "language_info": {
   "codemirror_mode": {
    "name": "ipython",
    "version": 3
   },
   "file_extension": ".py",
   "mimetype": "text/x-python",
   "name": "python",
   "nbconvert_exporter": "python",
   "pygments_lexer": "ipython3",
   "version": "3.12.3"
  }
 },
 "nbformat": 4,
 "nbformat_minor": 2
}
