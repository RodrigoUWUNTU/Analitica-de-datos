{
 "cells": [
  {
   "cell_type": "code",
   "execution_count": 1,
   "metadata": {},
   "outputs": [],
   "source": [
    "diccionario ={\n",
    "    \"gato\" : \"morris\", \"perro\" : \"solovino\", \"caballo\" : \"Paty\"\n",
    "}\n",
    "telefonos ={\n",
    "    'Jefe' : 5561865430, 'Suzy': 5533992009\n",
    "}\n",
    "diccionario_vacio = {}"
   ]
  },
  {
   "cell_type": "code",
   "execution_count": 2,
   "metadata": {},
   "outputs": [
    {
     "name": "stdout",
     "output_type": "stream",
     "text": [
      "{'gato': 'morris', 'perro': 'solovino', 'caballo': 'Paty'}\n",
      "{'Jefe': 5561865430, 'Suzy': 5533992009}\n",
      "{}\n"
     ]
    }
   ],
   "source": [
    "print(diccionario)\n",
    "print(telefonos)\n",
    "print(diccionario_vacio)"
   ]
  },
  {
   "cell_type": "markdown",
   "metadata": {},
   "source": [
    "## ¿Como utilizar un diccionario?"
   ]
  },
  {
   "cell_type": "code",
   "execution_count": 3,
   "metadata": {},
   "outputs": [
    {
     "name": "stdout",
     "output_type": "stream",
     "text": [
      "morris\n"
     ]
    }
   ],
   "source": [
    "print(diccionario[\"gato\"])"
   ]
  },
  {
   "cell_type": "code",
   "execution_count": 5,
   "metadata": {},
   "outputs": [
    {
     "ename": "KeyError",
     "evalue": "'suzy'",
     "output_type": "error",
     "traceback": [
      "\u001b[1;31m---------------------------------------------------------------------------\u001b[0m",
      "\u001b[1;31mKeyError\u001b[0m                                  Traceback (most recent call last)",
      "Cell \u001b[1;32mIn[5], line 1\u001b[0m\n\u001b[1;32m----> 1\u001b[0m \u001b[38;5;28mprint\u001b[39m(\u001b[43mtelefonos\u001b[49m\u001b[43m[\u001b[49m\u001b[38;5;124;43m'\u001b[39;49m\u001b[38;5;124;43msuzy\u001b[39;49m\u001b[38;5;124;43m'\u001b[39;49m\u001b[43m]\u001b[49m)\n",
      "\u001b[1;31mKeyError\u001b[0m: 'suzy'"
     ]
    }
   ],
   "source": [
    "print(telefonos['suzy'])"
   ]
  },
  {
   "cell_type": "code",
   "execution_count": 4,
   "metadata": {},
   "outputs": [
    {
     "name": "stdout",
     "output_type": "stream",
     "text": [
      "5533992009\n"
     ]
    }
   ],
   "source": [
    "print(telefonos['Suzy'])"
   ]
  },
  {
   "cell_type": "code",
   "execution_count": 4,
   "metadata": {},
   "outputs": [
    {
     "name": "stdout",
     "output_type": "stream",
     "text": [
      "gato No esta en el diccionario\n",
      "caballo->cheval\n",
      "leon No esta en el diccionario\n"
     ]
    }
   ],
   "source": [
    "dictionary = {\"cat\": \"gato\", \"perro\": \"chien\", \"caballo\": \"cheval\"}\n",
    "words = {'gato','leon','caballo'}\n",
    "\n",
    "for word in words:\n",
    "    if word in dictionary:\n",
    "        print (word + \"->\"+ dictionary[word])\n",
    "    else:\n",
    "        print (word, \"No esta en el diccionario\")"
   ]
  },
  {
   "cell_type": "markdown",
   "metadata": {},
   "source": [
    "### El método keys()\n",
    "\n",
    "¿Pueden los diccionarios ser examinados utilizando el bucle for, como las listas o tuplas?\n",
    "\n",
    "No y si.\n",
    "\n",
    "No, porque un diccionario no es un tipo de dato secuencial - el bucle for no es útil aquí.\n",
    "\n",
    "Si, porque hay herramientas simples y muy efectivas que pueden adaptar cualquier diccionario a los requerimientos del bucle for (en otras palabras, se construye un enlace intermedio entre el diccionario y una entidad secuencial temporal).\n",
    "\n",
    "El primero de ellos es un método denominado keys(), el cual es parte de todo diccionario. El método retorna o regresa una lista de todas las claves dentro del diccionario. Al tener una lista de claves se puede acceder a todo el diccionario de una manera fácil y útil.\n",
    "\n",
    "A continuación se muestra un ejemplo:"
   ]
  },
  {
   "cell_type": "code",
   "execution_count": 1,
   "metadata": {},
   "outputs": [
    {
     "name": "stdout",
     "output_type": "stream",
     "text": [
      "cat -> gato\n",
      "perro -> chien\n",
      "caballo -> cheval\n",
      "Burro -> Filemon\n"
     ]
    }
   ],
   "source": [
    "dictionary = {\"cat\": \"gato\", \"perro\": \"chien\", \"caballo\": \"cheval\", \"Burro\": \"Filemon\"}\n",
    "\n",
    "for key in dictionary.keys():\n",
    "    print (key , \"->\",  dictionary[key])"
   ]
  },
  {
   "cell_type": "markdown",
   "metadata": {},
   "source": [
    "Otra manera de hacerlo es utilizar el método items(). Este método retorna una lista de tuplas (este es el primer ejemplo en el que las tuplas son mas que un ejemplo de si mismas) donde cada tupla es un par de cada clave con su valor.\n",
    "\n",
    "Así es como funciona:"
   ]
  },
  {
   "cell_type": "code",
   "execution_count": 7,
   "metadata": {},
   "outputs": [
    {
     "name": "stdout",
     "output_type": "stream",
     "text": [
      "cat -> gato\n",
      "perro -> chien\n",
      "caballo -> cheval\n",
      "Burro -> Filemon\n"
     ]
    }
   ],
   "source": [
    "dictionary = {\"cat\": \"gato\", \"perro\": \"chien\", \"caballo\": \"cheval\", \"Burro\": \"Filemon\"}\n",
    "\n",
    "for key, valor in dictionary.items():\n",
    "    print(key,\"->\", valor)"
   ]
  },
  {
   "cell_type": "markdown",
   "metadata": {},
   "source": [
    "### Modificar, agregar y eliminar valores\n",
    "\n",
    "El asignar un nuevo valor a una clave existente es sencillo - debido a que los diccionarios son completamente mutables, no existen obstáculos para modificarlos.\n",
    "\n",
    "Se va a reemplazar el valor \"chat\" por \"minou\", lo cual no es muy adecuado, pero funcionará con nuestro ejemplo.\n",
    "\n",
    "Observa:"
   ]
  },
  {
   "cell_type": "code",
   "execution_count": 14,
   "metadata": {},
   "outputs": [
    {
     "name": "stdout",
     "output_type": "stream",
     "text": [
      "{'cat': 'minou', 'perro': 'chien', 'caballo': 'cheval', 'Burro': 'Filemon'}\n"
     ]
    }
   ],
   "source": [
    "dicti = {\"cat\": \"gato\", \"perro\": \"chien\", \"caballo\": \"cheval\", \"Burro\": \"Filemon\"}\n",
    "## cambiar el valor de una clave en un diccionario\n",
    "dicti[\"cat\"]= \"minou\"\n",
    "print(dicti)"
   ]
  },
  {
   "cell_type": "code",
   "execution_count": 2,
   "metadata": {},
   "outputs": [
    {
     "name": "stdout",
     "output_type": "stream",
     "text": [
      "[1, 3, 4, 5, 6, 23]\n"
     ]
    }
   ],
   "source": [
    "lista =[4,5,1,23,6,3]\n",
    "lista_ordenadas = sorted(lista)\n",
    "print(lista_ordenadas)"
   ]
  },
  {
   "cell_type": "code",
   "execution_count": 8,
   "metadata": {},
   "outputs": [
    {
     "name": "stdout",
     "output_type": "stream",
     "text": [
      "[23, 6, 5, 4, 3, 1]\n"
     ]
    }
   ],
   "source": [
    "lista =[4,5,1,23,6,3]\n",
    "lista_ordenadas = sorted(lista, reverse=True)\n",
    "print(lista_ordenadas)"
   ]
  },
  {
   "cell_type": "code",
   "execution_count": 9,
   "metadata": {},
   "outputs": [
    {
     "name": "stdout",
     "output_type": "stream",
     "text": [
      "Diccionario ordenado por claves  {'cat': 'gato', 'dog': 'perro', 'fish': 'pez', 'horse': 'caballo'}\n"
     ]
    }
   ],
   "source": [
    "#Ordena por clave pero guarda el key como el value, de forma ascendente\n",
    "dict_nuevo ={\n",
    "    \"cat\":\"gato\",\n",
    "    \"dog\":\"perro\",\n",
    "    \"horse\":\"caballo\",\n",
    "    \"fish\":\"pez\"\n",
    "}\n",
    "\n",
    "diccionario_ordenado_claves = dict(sorted(dict_nuevo.items(),reverse=False))\n",
    "print(\"Diccionario ordenado por claves \", diccionario_ordenado_claves)\n"
   ]
  },
  {
   "cell_type": "code",
   "execution_count": 10,
   "metadata": {},
   "outputs": [
    {
     "name": "stdout",
     "output_type": "stream",
     "text": [
      "Dixxionario Ordenado por clave  ['cat', 'dog', 'fish', 'horse']\n"
     ]
    }
   ],
   "source": [
    "#Ordena por clave, pero solo muestra las claves\n",
    "\n",
    "claves_ordenadas = sorted(dict_nuevo.keys())\n",
    "print(\"Dixxionario Ordenado por clave \", claves_ordenadas)"
   ]
  },
  {
   "cell_type": "code",
   "execution_count": 11,
   "metadata": {},
   "outputs": [
    {
     "name": "stdout",
     "output_type": "stream",
     "text": [
      "Dixxionario Ordenado por clave  ['cat', 'dog', 'fish', 'horse']\n"
     ]
    }
   ],
   "source": [
    "#Ordena por clave, pero solo muestra las claves y se ordena de forma ascendente\n",
    "\n",
    "claves_ordenadas = sorted(dict_nuevo.keys(), reverse=False)\n",
    "print(\"Dixxionario Ordenado por clave \", claves_ordenadas)"
   ]
  },
  {
   "cell_type": "code",
   "execution_count": 12,
   "metadata": {},
   "outputs": [
    {
     "name": "stdout",
     "output_type": "stream",
     "text": [
      "Dixxionario Ordenado por clave  ['horse', 'fish', 'dog', 'cat']\n"
     ]
    }
   ],
   "source": [
    "#Ordena por clave, pero solo muestra las claves y se ordena de forma ascendente\n",
    "\n",
    "claves_ordenadas = sorted(dict_nuevo.keys(), reverse=True)\n",
    "print(\"Dixxionario Ordenado por clave \", claves_ordenadas)"
   ]
  },
  {
   "cell_type": "markdown",
   "metadata": {},
   "source": [
    "### Agregando nuevas claves\n",
    "\n",
    "El agregar una nueva clave con su valor a un diccionario es tan simple como cambiar un valor. Solo se tiene que asignar un valor a una nueva clave que no haya existido antes.\n",
    "\n",
    "Nota: este es un comportamiento muy diferente comparado a las listas, las cuales no permiten asignar valores a índices no existentes.\n",
    "\n",
    "A continuación se agrega un par nuevo al diccionario - un poco extraño pero válido:"
   ]
  },
  {
   "cell_type": "code",
   "execution_count": 13,
   "metadata": {},
   "outputs": [
    {
     "name": "stdout",
     "output_type": "stream",
     "text": [
      "{'cat': 'gato', 'dog': 'perro', 'hourse': 'caballo', 'fish': 'pez', 'pig': 'cochino'}\n"
     ]
    }
   ],
   "source": [
    "dict_ingles_espanol = {\n",
    "    \"cat\": \"gato\", \n",
    "    \"dog\": \"perro\",\n",
    "    \"hourse\": \"caballo\", \n",
    "    \"fish\": \"pez\"\n",
    "}\n",
    "dict_ingles_espanol[\"pig\"] = \"cochino\"\n",
    "print(dict_ingles_espanol)"
   ]
  },
  {
   "cell_type": "markdown",
   "metadata": {},
   "source": [
    "<span style=\"background-color: orange; border-radius: 5px; padding: 2px 2px; color:black;\">Nota</span>\n",
    "\n",
    "También es posible insertar un elemento al diccionario utilizando el método update(), por ejemplo:"
   ]
  },
  {
   "cell_type": "code",
   "execution_count": 15,
   "metadata": {},
   "outputs": [
    {
     "name": "stdout",
     "output_type": "stream",
     "text": [
      "{'cat': 'gato', 'dog': 'perro', 'hourse': 'caballo', 'fish': 'pez', 'pig': 'cochino', 'turkey': 'Total'}\n"
     ]
    }
   ],
   "source": [
    "dict_ingles_espanol.update({'turkey':'Total'})\n",
    "print(dict_ingles_espanol)"
   ]
  },
  {
   "cell_type": "markdown",
   "metadata": {},
   "source": [
    "### Eliminado una clave\n",
    "\n",
    "¿Puedes deducir como eliminar una clave de un diccionario?\n",
    "\n",
    "Nota: al eliminar la clave también se removerá el valor asociado. Los valores no pueden existir sin sus claves.\n",
    "\n",
    "Esto se logra con la instrucción del.\n",
    "\n",
    "A continuación un ejemplo:"
   ]
  },
  {
   "cell_type": "code",
   "execution_count": 18,
   "metadata": {},
   "outputs": [
    {
     "name": "stdout",
     "output_type": "stream",
     "text": [
      "{'dog': 'perro', 'hourse': 'caballo', 'fish': 'pez'}\n"
     ]
    }
   ],
   "source": [
    "dict_ingles_espanol = {\n",
    "    \"cat\": \"gato\", \n",
    "    \"dog\": \"perro\",\n",
    "    \"hourse\": \"caballo\", \n",
    "    \"fish\": \"pez\"\n",
    "}\n",
    "del dict_ingles_espanol['cat']\n",
    "print(dict_ingles_espanol)"
   ]
  },
  {
   "cell_type": "markdown",
   "metadata": {},
   "source": [
    "Para eliminar el ultimo elemento de la lista, se puede emplear el método popitem():\n"
   ]
  },
  {
   "cell_type": "code",
   "execution_count": null,
   "metadata": {},
   "outputs": [],
   "source": []
  }
 ],
 "metadata": {
  "kernelspec": {
   "display_name": "Python 3",
   "language": "python",
   "name": "python3"
  },
  "language_info": {
   "codemirror_mode": {
    "name": "ipython",
    "version": 3
   },
   "file_extension": ".py",
   "mimetype": "text/x-python",
   "name": "python",
   "nbconvert_exporter": "python",
   "pygments_lexer": "ipython3",
   "version": "3.12.3"
  }
 },
 "nbformat": 4,
 "nbformat_minor": 2
}
