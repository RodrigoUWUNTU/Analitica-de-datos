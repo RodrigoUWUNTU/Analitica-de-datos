{
 "cells": [
  {
   "cell_type": "markdown",
   "metadata": {},
   "source": [
    "# Ejemplo 1"
   ]
  },
  {
   "cell_type": "code",
   "execution_count": 4,
   "metadata": {},
   "outputs": [
    {
     "name": "stdout",
     "output_type": "stream",
     "text": [
      "El numero mayor es7\n"
     ]
    }
   ],
   "source": [
    "# Se leen dos numeros\n",
    "numero1 = int(input(\"ingrese el primer numero\"))\n",
    "numero2 = int(input(\"Ingresa el segundo numero\"))\n",
    "\n",
    "#Elige el numero mas grande\n",
    "if numero1 > numero2:\n",
    "    numero_mayor = numero1\n",
    "    print(f'El numero mayor es{numero_mayor}')\n",
    "else:\n",
    "    numero_mayor = numero2\n",
    "    print(f'El numero mayor es{numero_mayor}')"
   ]
  },
  {
   "cell_type": "markdown",
   "metadata": {},
   "source": [
    "## Ejemplo 2\n",
    "\n",
    "Encontrar el numero mas grande de tres numeros"
   ]
  },
  {
   "cell_type": "code",
   "execution_count": 9,
   "metadata": {},
   "outputs": [
    {
     "name": "stdout",
     "output_type": "stream",
     "text": [
      "El numero mayor es 9\n"
     ]
    }
   ],
   "source": [
    "#Se leen tres numeros\n",
    "n1 = int(input(\"Ingresar el primer numero\"))\n",
    "n2 = int(input(\"Ingresar el segundo numero\"))\n",
    "n3 = int(input(\"Ingresar el tercer numero\"))\n",
    "\n",
    "#Elige el numero mas grande de los tres\n",
    "if n1 > n2 and n1 > n3:\n",
    "    numero_mayor = n1\n",
    "elif n2 > n1 and n2 > n3:\n",
    "    numero_mayor = n2\n",
    "else:\n",
    "    numero_mayor = n3\n",
    "print(f'El numero mayor es {numero_mayor}')"
   ]
  },
  {
   "cell_type": "code",
   "execution_count": 12,
   "metadata": {},
   "outputs": [
    {
     "name": "stdout",
     "output_type": "stream",
     "text": [
      "El numero mayor es 14\n"
     ]
    }
   ],
   "source": [
    "#Se leen tres numeros\n",
    "n1 = int(input(\"Ingresar el primer numero\"))\n",
    "n2 = int(input(\"Ingresar el segundo numero\"))\n",
    "n3 = int(input(\"Ingresar el tercer numero\"))\n",
    "\n",
    "numero_mayor = n1\n",
    "if n2 > numero_mayor:\n",
    "    numero_mayor = n2\n",
    "\n",
    "if n3 > numero_mayor:\n",
    "    numero_mayor = n3\n",
    "\n",
    "print(f'El numero mayor es {numero_mayor}')\n"
   ]
  },
  {
   "cell_type": "markdown",
   "metadata": {},
   "source": [
    "## Ejercicio 1\n"
   ]
  },
  {
   "cell_type": "code",
   "execution_count": 19,
   "metadata": {},
   "outputs": [
    {
     "name": "stdout",
     "output_type": "stream",
     "text": [
      "No,¡Quiero un gran espatifilo!\n"
     ]
    }
   ],
   "source": [
    "Palabra = input('ingresa la palabra')\n",
    "if Palabra == 'ESPATIFILO':\n",
    "    print('El espatifilo es la mejor planta')\n",
    "elif Palabra == 'espatifilo':\n",
    "    print('No,¡Quiero un gran espatifilo!')\n",
    "else:\n",
    "    print('Wenas quiere un pay')\n",
    "\n"
   ]
  },
  {
   "cell_type": "markdown",
   "metadata": {},
   "source": [
    "## Ejercicio 2"
   ]
  },
  {
   "cell_type": "code",
   "execution_count": null,
   "metadata": {},
   "outputs": [],
   "source": [
    "Ingreso = float(input('Ingresa tu ingreso anual'))\n",
    "if Ingreso < 85528:\n",
    "    \n",
    "\n",
    "\n"
   ]
  }
 ],
 "metadata": {
  "kernelspec": {
   "display_name": "Python 3",
   "language": "python",
   "name": "python3"
  },
  "language_info": {
   "codemirror_mode": {
    "name": "ipython",
    "version": 3
   },
   "file_extension": ".py",
   "mimetype": "text/x-python",
   "name": "python",
   "nbconvert_exporter": "python",
   "pygments_lexer": "ipython3",
   "version": "3.12.3"
  }
 },
 "nbformat": 4,
 "nbformat_minor": 2
}
