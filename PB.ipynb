{
 "cells": [
  {
   "cell_type": "markdown",
   "metadata": {},
   "source": [
    "# Bucles en codigo while"
   ]
  },
  {
   "cell_type": "markdown",
   "metadata": {},
   "source": [
    "## Bucle o ciclo infinito"
   ]
  },
  {
   "cell_type": "code",
   "execution_count": null,
   "metadata": {},
   "outputs": [],
   "source": [
    "while True:\n",
    "    print('Estoy trabando en el bucle infinito')"
   ]
  },
  {
   "cell_type": "code",
   "execution_count": 2,
   "metadata": {},
   "outputs": [
    {
     "name": "stdout",
     "output_type": "stream",
     "text": [
      "1\n",
      "2\n",
      "3\n",
      "4\n",
      "5\n",
      "6\n",
      "7\n",
      "8\n",
      "9\n",
      "10\n",
      "11\n"
     ]
    }
   ],
   "source": [
    "i = 0\n",
    "while i<=10:\n",
    "    print(i+1)\n",
    "    i+=1 # i=i+1\n"
   ]
  },
  {
   "cell_type": "markdown",
   "metadata": {},
   "source": [
    "### Reto: Realiza un programa utilizando el ciclo anterior pero se debe solicitar al usuario el numero de veces que el usuario introducira valores y deben contar cuantos son pares y cuantos son impares"
   ]
  },
  {
   "cell_type": "code",
   "execution_count": 7,
   "metadata": {},
   "outputs": [
    {
     "name": "stdout",
     "output_type": "stream",
     "text": [
      "El total de pares es: 2\n",
      "El total de inpares es: 3\n"
     ]
    }
   ],
   "source": [
    "nv = int(input('introduce el numero de valores a solicitar'))\n",
    "i = 1\n",
    "total_pares=0\n",
    "total_impares=0\n",
    "numero = 0\n",
    "while numero!=-1:\n",
    "    numero = int(input(f'Introducir el numero{i}'))\n",
    "\n",
    "    if numero!=-1:\n",
    "        if numero%2 == 0:\n",
    "            total_pares+=1\n",
    "        else:\n",
    "            total_impares+=1\n",
    "\n",
    "print(f'El total de pares es: {total_pares}')\n",
    "print(f'El total de inpares es: {total_impares}')"
   ]
  },
  {
   "cell_type": "code",
   "execution_count": null,
   "metadata": {},
   "outputs": [],
   "source": [
    "i=1\n",
    "while True:\n",
    "    if(i==10):\n",
    "        print(i)\n",
    "        break\n",
    "    print(i)\n",
    "    i+=1"
   ]
  },
  {
   "cell_type": "code",
   "execution_count": null,
   "metadata": {},
   "outputs": [],
   "source": [
    "pares = 0\n",
    "impares = 0\n",
    "continuar = True\n",
    "\n",
    "while continuar:\n",
    "    numero = int(input(f\"Introduce el numero {i+1}: \"))\n",
    "\n",
    "    if numero == -1:\n",
    "        print(\"Detenido por el usuario usando -1\")\n",
    "        continuar = False\n",
    "    else:\n",
    "        if numero % 2 == 0:\n",
    "            pares += 1\n",
    "        else:\n",
    "            impares += 1\n",
    "        \n",
    "print(f'Haz introducido {pares} numeros pares y {impares} numeros impares')"
   ]
  },
  {
   "cell_type": "markdown",
   "metadata": {},
   "source": [
    "### Escenario\n",
    "Un mago junior ha elegido un número secreto. Lo ha escondido en una variable llamada secret_number. Quiere que todos los que ejecutan su programa jueguen el juego Adivina el número secreto, y adivina qué número ha elegido para ellos. ¡Quiénes no adivinen el número quedarán atrapados en un bucle sin fin para siempre! Desafortunadamente, él no sabe cómo completar el código.\n",
    "\n",
    "Tu tarea es ayudar al mago a completar el código en el editor de tal manera que el código:\n",
    "\n",
    "pedirá al usuario que ingrese un número entero;\n",
    "utilizará un bucle while;\n",
    "comprobará si el número ingresado por el usuario es el mismo que el número escogido por el mago. Si el número elegido por el usuario es diferente al número secreto del mago, el usuario debería ver el mensaje \"¡Ja, ja! ¡Estás atrapado en mi bucle!\" y se le solicitará que ingrese un número nuevamente. Si el número ingresado por el usuario coincide con el número escogido por el mago, el número debe imprimirse en la pantalla, y el mago debe decir las siguientes palabras: \"¡Bien hecho, muggle! Eres libre ahora.\"\n",
    "¡El mago está contando contigo! No lo decepciones.\n"
   ]
  },
  {
   "cell_type": "code",
   "execution_count": 14,
   "metadata": {},
   "outputs": [
    {
     "name": "stdout",
     "output_type": "stream",
     "text": [
      "JAJAJA, El numero es incorrecto, ahora estas atrapado en mi bucle\n",
      "\"¡Bien hecho, muggle! ahora eres libre\"\n"
     ]
    }
   ],
   "source": [
    "num_s = 13\n",
    "num = 0\n",
    "terminar = True\n",
    "while terminar:\n",
    "    num = int(input('Ingresa un numero: '))\n",
    "    if num == num_s:\n",
    "        print('\"¡Bien hecho, muggle! ahora eres libre\"')\n",
    "        terminar = False\n",
    "    else:\n",
    "        print(\"JAJAJA, El numero es incorrecto, ahora estas atrapado en mi bucle\")"
   ]
  },
  {
   "cell_type": "code",
   "execution_count": 18,
   "metadata": {},
   "outputs": [],
   "source": [
    "for i in range(100):\n",
    "   # do_something()\n",
    "   pass"
   ]
  },
  {
   "cell_type": "code",
   "execution_count": 19,
   "metadata": {},
   "outputs": [],
   "source": [
    "for i in range(100):\n",
    "    # hacer_algo\n",
    "    pass"
   ]
  },
  {
   "cell_type": "code",
   "execution_count": 20,
   "metadata": {},
   "outputs": [],
   "source": [
    "if True:\n",
    "    # Hacer algo\n",
    "    pass"
   ]
  },
  {
   "cell_type": "code",
   "execution_count": 21,
   "metadata": {},
   "outputs": [
    {
     "name": "stdout",
     "output_type": "stream",
     "text": [
      "0\n",
      "1\n",
      "2\n",
      "3\n",
      "4\n",
      "5\n",
      "6\n",
      "7\n",
      "8\n",
      "9\n"
     ]
    }
   ],
   "source": [
    "for i in range(10):\n",
    "    print(i)"
   ]
  },
  {
   "cell_type": "code",
   "execution_count": 22,
   "metadata": {},
   "outputs": [
    {
     "name": "stdout",
     "output_type": "stream",
     "text": [
      "El valor de i es: 0\n",
      "El valor de i es: 1\n",
      "El valor de i es: 2\n",
      "El valor de i es: 3\n",
      "El valor de i es: 4\n",
      "El valor de i es: 5\n",
      "El valor de i es: 6\n",
      "El valor de i es: 7\n",
      "El valor de i es: 8\n",
      "El valor de i es: 9\n"
     ]
    }
   ],
   "source": [
    "for i in range(10):\n",
    "    print(f'El valor de i es: {i}')"
   ]
  },
  {
   "cell_type": "code",
   "execution_count": 25,
   "metadata": {},
   "outputs": [
    {
     "name": "stdout",
     "output_type": "stream",
     "text": [
      "El valor del item es: 2\n",
      "El valor del item es: 3\n",
      "El valor del item es: 4\n",
      "El valor del item es: 5\n",
      "El valor del item es: 6\n",
      "El valor del item es: 7\n"
     ]
    }
   ],
   "source": [
    "for item in range(2,8):\n",
    "    print(f'El valor del item es: {item}')"
   ]
  },
  {
   "cell_type": "code",
   "execution_count": 26,
   "metadata": {},
   "outputs": [
    {
     "name": "stdout",
     "output_type": "stream",
     "text": [
      "el valor de x es: 2\n",
      "el valor de x es: 5\n",
      "el valor de x es: 8\n"
     ]
    }
   ],
   "source": [
    "for x in range(2,9,3):\n",
    "    print(f'el valor de x es: {x}')"
   ]
  },
  {
   "cell_type": "markdown",
   "metadata": {},
   "source": [
    "import time\n",
    "\n",
    "# Escribe un bucle for que cuente hasta cinco.\n",
    "    # Cuerpo del bucle: imprime el número de iteración del bucle y la palabra \"Mississippi\".\n",
    "    # Cuerpo del bucle, emplea : time.sleep(1)\n",
    "\n",
    "# Escribe una función print con el mensaje final."
   ]
  },
  {
   "cell_type": "code",
   "execution_count": 27,
   "metadata": {},
   "outputs": [
    {
     "name": "stdout",
     "output_type": "stream",
     "text": [
      "0: Mississippi\n",
      "1: Mississippi\n",
      "2: Mississippi\n",
      "3: Mississippi\n",
      "4: Mississippi\n",
      "bye\n"
     ]
    }
   ],
   "source": [
    "import time\n",
    "for i in range(5):\n",
    "    print(f'{i}: Mississippi')\n",
    "    time.sleep(1)\n",
    "print('bye')"
   ]
  },
  {
   "cell_type": "markdown",
   "metadata": {},
   "source": [
    "### LAB   Fundamentos del bucle for – contando lentamente (mississippily)\n",
    "\n",
    "Tu tarea es muy simple aquí: escribe un programa que use un bucle for para \"contar de forma mississippi\" hasta cinco. Habiendo contado hasta cinco, el programa debería imprimir en la pantalla el mensaje final \"¡Listos o no, ahí voy!\"\n",
    "\n",
    "Utiliza el esqueleto que hemos proporcionado en el editor."
   ]
  },
  {
   "cell_type": "code",
   "execution_count": 29,
   "metadata": {},
   "outputs": [
    {
     "name": "stdout",
     "output_type": "stream",
     "text": [
      "0:Mississippi\n",
      "1:Mississippi\n",
      "2:Mississippi\n",
      "3:Mississippi\n",
      "4:Mississippi\n",
      "Listos o no, ahi vot\n"
     ]
    }
   ],
   "source": [
    "import time\n",
    "for i in range(5):\n",
    "    print(f'{i}:Mississippi')\n",
    "    time.sleep(1)\n",
    "print('Listos o no, ahi voy')"
   ]
  },
  {
   "cell_type": "markdown",
   "metadata": {},
   "source": [
    "# Las sentencias break y continue\n",
    "\n",
    "Estas dos instrucciones son:\n",
    "\n",
    "1. break - sale del bucle inmediatamente, e incondicionalmente termina la operación del bucle; el programa comienza a ejecutar la instrucción más cercana después del cuerpo del bucle.\n",
    "1. continue - se comporta como si el programa hubiera llegado repentinamente al final del cuerpo; el siguiente turno se inicia y la expresión de condición se prueba de inmediato."
   ]
  },
  {
   "cell_type": "code",
   "execution_count": 33,
   "metadata": {},
   "outputs": [
    {
     "name": "stdout",
     "output_type": "stream",
     "text": [
      "El valor de i es:0\n",
      "El valor de i es:1\n",
      "El valor de i es:2\n",
      "El valor de i es:3\n",
      "El valor de i es:4\n"
     ]
    }
   ],
   "source": [
    "for i in range(1000):\n",
    "    if i == 5:\n",
    "        break;\n",
    "    print(f'El valor de i es:{i}')\n"
   ]
  },
  {
   "cell_type": "code",
   "execution_count": 47,
   "metadata": {},
   "outputs": [
    {
     "name": "stdout",
     "output_type": "stream",
     "text": [
      "La instruccion Break\n",
      "Dentro del bucle: 1\n",
      "Dentro del bucle: 2\n",
      "fuera del bucle\n"
     ]
    }
   ],
   "source": [
    "print('La instruccion Break')\n",
    "for i in range(1,6):\n",
    "    if i == 3:\n",
    "        break;\n",
    "    print(f'Dentro del bucle: {i}')\n",
    "print('fuera del bucle')\n",
    "    "
   ]
  },
  {
   "cell_type": "code",
   "execution_count": 48,
   "metadata": {},
   "outputs": [
    {
     "name": "stdout",
     "output_type": "stream",
     "text": [
      "la instruccion continue\n",
      "Dentro del bucle: 1\n",
      "Dentro del bucle: 2\n",
      "Dentro del bucle: 4\n",
      "Dentro del bucle: 5\n",
      "fuera del bucle\n"
     ]
    }
   ],
   "source": [
    "print('la instruccion continue')\n",
    "for i in range(1,6):\n",
    "    if i == 3:\n",
    "        continue\n",
    "    print(f'Dentro del bucle: {i}')\n",
    "print('fuera del bucle')"
   ]
  },
  {
   "cell_type": "markdown",
   "metadata": {},
   "source": [
    "## Listas\n",
    "Los elementos dentro de una lista pueden tener diferentes tipos. Algunos de ellos pueden ser enteros, otros son flotantes y otros pueden ser listas.\n",
    "\n",
    "```python\n",
    "    numbers = [10, 5, 7, 2, 1]\n",
    "```\n",
    "Python ha adoptado una convención que indica que los elementos de una lista están siempre numerados desde cero. Esto significa que el elemento almacenado al principio de la lista tendrá el número cero. Como hay cinco elementos en nuestra lista, al último de ellos se le asigna el número cuatro. No olvides esto.\n",
    "\n",
    "Nuestra lista es una colección de elementos, pero cada elemento es un escalar."
   ]
  },
  {
   "cell_type": "code",
   "execution_count": 37,
   "metadata": {},
   "outputs": [
    {
     "name": "stdout",
     "output_type": "stream",
     "text": [
      "Mi primer lista en python es: [10, True, 14.25, 'Hola', 12]\n",
      "El valor de la posicion 0 es: 10\n",
      "El valor de la posicion 4 es: 12\n",
      "El valor de la posicion 4 es: 12\n",
      "El valor de la posicion 2 es: True\n",
      "El valor de la posicion 2 es: True\n"
     ]
    }
   ],
   "source": [
    "x = [10, True, 14.25, 'Hola', 3*4]\n",
    "print(f\"Mi primer lista en python es: {x}\")\n",
    "print(f\"El valor de la posicion 0 es: {x[0]}\")\n",
    "print(f'El valor de la posicion 4 es: {x[4]}')\n",
    "print(f'El valor de la posicion 4 es: {x[-1]}')\n",
    "print(f'El valor de la posicion 2 es: {x[1]}')\n",
    "print(f'El valor de la posicion 2 es: {x[-4]}')"
   ]
  },
  {
   "cell_type": "markdown",
   "metadata": {},
   "source": [
    "## Indexaacion de listas\n",
    "\n",
    "El valor dentro de los corchetes que selecciona un elemento de la lista se llama un índice, mientras que la operación de seleccionar un elemento de la lista se conoce como indexación.\n",
    "\n",
    "Vamos a utilizar la función print() para imprimir el contenido de la lista cada vez que realicemos los cambios. Esto nos ayudará a seguir cada paso con más cuidado y ver que sucede después de una modificación de la lista en particular.\n",
    "\n",
    "Nota: todos los índices utilizados hasta ahora son literales. Sus valores se fijan en el tiempo de ejecución, pero cualquier expresión también puede ser un índice. Esto abre muchas posibilidades.\n",
    "\n",
    "Vamos a asignar un nuevo valor de 111 al primer elemento en la lista. Lo hacemos de esta manera:"
   ]
  },
  {
   "cell_type": "code",
   "execution_count": 45,
   "metadata": {},
   "outputs": [
    {
     "name": "stdout",
     "output_type": "stream",
     "text": [
      "Contenido de la lista: [10, 5, 7, 2, 1]\n",
      "Contenido de la lista modificada: [111, 5, 7, 2, 1]\n"
     ]
    }
   ],
   "source": [
    "numbers = [10,5,7,2,1]\n",
    "# imprimir el contenido de la lista original\n",
    "print(f'Contenido de la lista: {numbers}')\n",
    "#agregaremos un numero a la lista\n",
    "numbers[0] = 111\n",
    "print(f'Contenido de la lista modificada: {numbers}')\n"
   ]
  },
  {
   "cell_type": "markdown",
   "metadata": {},
   "source": [
    "Y ahora queremos copiar el valor del quinto elemento al segndo elemento - ¿puedes adivinar como hacerlo?"
   ]
  },
  {
   "cell_type": "code",
   "execution_count": 49,
   "metadata": {},
   "outputs": [
    {
     "name": "stdout",
     "output_type": "stream",
     "text": [
      "La lista original es: [10, 5, 7, 2, 1]\n",
      "Contenido de la nueva lista: [111, 5, 7, 2, 1]\n",
      "la lista modificada es: [111, 1, 7, 2, 1]\n"
     ]
    }
   ],
   "source": [
    "numbers = [10,5,7,2,1]\n",
    "print(f'La lista original es: {numbers}')\n",
    "numbers[0] = 111\n",
    "print(f'Contenido de la nueva lista: {numbers}')\n",
    "numbers[1] = numbers[4]\n",
    "print(f'la lista modificada es: {numbers}')\n"
   ]
  }
 ],
 "metadata": {
  "kernelspec": {
   "display_name": "Python 3",
   "language": "python",
   "name": "python3"
  },
  "language_info": {
   "codemirror_mode": {
    "name": "ipython",
    "version": 3
   },
   "file_extension": ".py",
   "mimetype": "text/x-python",
   "name": "python",
   "nbconvert_exporter": "python",
   "pygments_lexer": "ipython3",
   "version": "3.12.3"
  }
 },
 "nbformat": 4,
 "nbformat_minor": 2
}
