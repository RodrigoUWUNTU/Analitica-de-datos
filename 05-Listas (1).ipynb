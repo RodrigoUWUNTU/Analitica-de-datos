{
 "cells": [
  {
   "cell_type": "code",
   "execution_count": 7,
   "metadata": {},
   "outputs": [
    {
     "name": "stdout",
     "output_type": "stream",
     "text": [
      "Mi primer lista en phyton es: [10, True, 14.25, 'Hola', 12]\n",
      "El valor de la posicion  0 es: 10\n",
      "El valor de la posicion  4 es: 12\n",
      "El valor de la posicion  4 es: 12\n",
      "El valor de la posicion  2 es: True\n",
      "El valor de la posicion  2 es: True\n"
     ]
    }
   ],
   "source": [
    "x = [10, True, 14.25,'Hola',3*4 ]\n",
    "print(f'Mi primer lista en phyton es: {x}')\n",
    "print(f'El valor de la posicion  0 es: {x[0]}')\n",
    "print(f'El valor de la posicion  4 es: {x[4]}')\n",
    "print(f'El valor de la posicion  4 es: {x[-1]}')\n",
    "print(f'El valor de la posicion  2 es: {x[1]}')\n",
    "print(f'El valor de la posicion  2 es: {x[-4]}')"
   ]
  },
  {
   "cell_type": "markdown",
   "metadata": {},
   "source": [
    "Los elementos dentro de una lista pueden tener diferentes tipos. Algunos de ellos pueden ser enteros, otros son flotantes y otros pueden ser listas.\n",
    "\n",
    "```python\n",
    "    numbers = [10, 5, 7, 2, 1]\n",
    "```\n",
    "Python ha adoptado una convención que indica que los elementos de una lista están siempre numerados desde cero. Esto significa que el elemento almacenado al principio de la lista tendrá el número cero. Como hay cinco elementos en nuestra lista, al último de ellos se le asigna el número cuatro. No olvides esto.\n",
    "\n",
    "Nuestra lista es una colección de elementos, pero cada elemento es un escalar."
   ]
  },
  {
   "cell_type": "markdown",
   "metadata": {},
   "source": [
    "# Indexación de listas\n",
    "\n",
    "Vamo a asiganr un nuevo valor de 111 al primer elemento en la lista. Lo hacemos de esta manera:"
   ]
  },
  {
   "cell_type": "code",
   "execution_count": 9,
   "metadata": {},
   "outputs": [
    {
     "name": "stdout",
     "output_type": "stream",
     "text": [
      "Contenido de la lista: [10, 5, 7, 2, 1]\n",
      "Contido de la lista modificada: [111, 5, 7, 2, 1]\n"
     ]
    }
   ],
   "source": [
    "numbers = [10,5,7,2,1]\n",
    "# Imprimir el contenido de la lista original\n",
    "print(f'Contenido de la lista: {numbers}')\n",
    "# Agregar un valor a la lista\n",
    "numbers [0] = 111\n",
    "print (f'Contido de la lista modificada: {numbers}')"
   ]
  },
  {
   "cell_type": "markdown",
   "metadata": {},
   "source": [
    "Y ahora queremos copiar el valor del quinto al segundo elemento - ¿Puedes adivinar cómo hacerlo?"
   ]
  },
  {
   "cell_type": "code",
   "execution_count": 2,
   "metadata": {},
   "outputs": [
    {
     "name": "stdout",
     "output_type": "stream",
     "text": [
      "Lista original es: [10, 5, 7, 2, 1]\n",
      "Contenido de la lista nueva: [111, 5, 7, 2, 1]\n",
      "Contenido de la lista modificada: [111, 1, 7, 2, 1]\n"
     ]
    }
   ],
   "source": [
    "\n",
    "numbers = [10,5,7,2,1]\n",
    "#contenido de la lista original\n",
    "print(f'Lista original es: {numbers}')\n",
    "numbers [0]= 111\n",
    "print(f'Contenido de la lista nueva: {numbers}')\n",
    "#Copia del valor del 5to elemento al segundo\n",
    "numbers [1] = numbers [4]\n",
    "#Imprimir el contenido de la ultima modificación de la lista\n",
    "print(f'Contenido de la lista modificada: {numbers}')"
   ]
  },
  {
   "cell_type": "markdown",
   "metadata": {},
   "source": [
    "El valor dentro de los corchetes que selecciona un elemento de la lista se llama un índice, mientras que la operación de seleccionar un elemento de la lista se conoce como indexación.\n",
    "\n",
    "Vamos a utilizar la función print() para imprimir el contenido de la lista cada vez que realicemos los cambios. Esto nos ayudará a seguir cada paso con más cuidado y ver que sucede después de una modificación de la lista en particular.\n",
    "\n",
    "Nota: todos los índices utilizados hasta ahora son literales. Sus valores se fijan en el tiempo de ejecución, pero cualquier expresión también puede ser un índice. Esto abre muchas posibilidades."
   ]
  },
  {
   "cell_type": "markdown",
   "metadata": {},
   "source": [
    "## Acceso al contenido de las listas\n",
    "Se puede acceder a cada uno de los elementos de la lista por separado. Por ejemplo, se puede imprimir."
   ]
  },
  {
   "cell_type": "code",
   "execution_count": 3,
   "metadata": {},
   "outputs": [
    {
     "data": {
      "text/plain": [
       "[111, 1, 7, 2, 1]"
      ]
     },
     "execution_count": 3,
     "metadata": {},
     "output_type": "execute_result"
    }
   ],
   "source": [
    "numbers"
   ]
  },
  {
   "cell_type": "code",
   "execution_count": 4,
   "metadata": {},
   "outputs": [
    {
     "name": "stdout",
     "output_type": "stream",
     "text": [
      "111\n"
     ]
    }
   ],
   "source": [
    "print (numbers [0])"
   ]
  },
  {
   "cell_type": "code",
   "execution_count": 14,
   "metadata": {},
   "outputs": [
    {
     "name": "stdout",
     "output_type": "stream",
     "text": [
      "Lista original es: [10, 5, 7, 2, 1]\n",
      "[111, 5, 7, 2, 1]\n",
      "[111, 5, 7, 2, 111]\n"
     ]
    }
   ],
   "source": [
    "numbers = [10,5,7,2,1]\n",
    "#contenido de la lista original\n",
    "print(f'Lista original es: {numbers}')\n",
    "\n",
    "numbers [0]= 111\n",
    "\n",
    "print (numbers)\n",
    "\n",
    "numbers [4]= numbers [-5]\n",
    "numbers [4] = numbers [0]\n",
    "print (numbers)"
   ]
  },
  {
   "cell_type": "markdown",
   "metadata": {},
   "source": [
    "## Eliminando elementos de una lista\n",
    "\n",
    "Cualquier elemento de la lista puede ser eliminado en cualquier momento - esto se hace con una instrucción llamada del (eliminar). Nota: es una instrucción, no una función.\n",
    "\n",
    "Tienes que apuntar al elemento que quieres eliminar - desaparecerá de la lista y la longitud de la lista se reducirá en uno.\n",
    "\n",
    "Mira el fragmento de abajo. ¿Puedes adivinar qué output producirá? Ejecuta el programa en el editor y comprueba."
   ]
  },
  {
   "cell_type": "code",
   "execution_count": 13,
   "metadata": {},
   "outputs": [
    {
     "data": {
      "text/plain": [
       "[]"
      ]
     },
     "execution_count": 13,
     "metadata": {},
     "output_type": "execute_result"
    }
   ],
   "source": [
    "numbers"
   ]
  },
  {
   "cell_type": "code",
   "execution_count": 15,
   "metadata": {},
   "outputs": [
    {
     "data": {
      "text/plain": [
       "[3, 5, 7, 2, 111]"
      ]
     },
     "execution_count": 15,
     "metadata": {},
     "output_type": "execute_result"
    }
   ],
   "source": [
    "numbers [0] = 3\n",
    "numbers"
   ]
  },
  {
   "cell_type": "code",
   "execution_count": 8,
   "metadata": {},
   "outputs": [
    {
     "data": {
      "text/plain": [
       "[3, 5, 7, 2]"
      ]
     },
     "execution_count": 8,
     "metadata": {},
     "output_type": "execute_result"
    }
   ],
   "source": [
    "del numbers [4]\n",
    "numbers"
   ]
  },
  {
   "cell_type": "markdown",
   "metadata": {},
   "source": [
    "## Los índices negativos son legales\n",
    "\n",
    "Puede parecer extraño, pero los índices negativos son válidos, y pueden ser muy útiles.\n",
    "\n",
    "Un elemento con un índice igual a -1 es el último en la lista."
   ]
  },
  {
   "cell_type": "code",
   "execution_count": 25,
   "metadata": {},
   "outputs": [
    {
     "name": "stdout",
     "output_type": "stream",
     "text": [
      "1\n",
      "2\n",
      "7\n",
      "5\n",
      "10\n"
     ]
    }
   ],
   "source": [
    "print(numbers [-1])\n",
    "print(numbers [-2])\n",
    "print(numbers [-3])\n",
    "print(numbers [-4])\n",
    "print(numbers [-5])"
   ]
  },
  {
   "cell_type": "code",
   "execution_count": 29,
   "metadata": {},
   "outputs": [
    {
     "data": {
      "text/plain": [
       "[10, 5, 7, 2, 1]"
      ]
     },
     "execution_count": 29,
     "metadata": {},
     "output_type": "execute_result"
    }
   ],
   "source": [
    "numbers = [10,5,7,2,1]\n",
    "\n",
    "numbers\n",
    "\n",
    "del numbers [-2]\n",
    "\n"
   ]
  },
  {
   "cell_type": "markdown",
   "metadata": {},
   "source": [
    "# LAB Los fundamentos de las listas\n",
    "\n",
    "Escenario\n",
    "Había una vez un sombrero. El sombrero no contenía conejo, sino una lista de cinco números: 1, 2, 3, 4, y 5.\n",
    "\n",
    "Tu tarea es:\n",
    "\n",
    "1. escribir una línea de código que solicite al usuario que reemplace el número central en la lista con un número entero ingresado por el usuario (Paso 1)\n",
    "2. escribir una línea de código que elimine el último elemento de la lista (Paso 2)\n",
    "1. escribir una línea de código que imprima la longitud de la lista existente (Paso 3).\n",
    "1. ¿Listo para este desafío?"
   ]
  },
  {
   "cell_type": "markdown",
   "metadata": {},
   "source": [
    "hat_list = [1, 2, 3, 4, 5] # Esta es una lista existente de números ocultos en el sombrero.\n",
    "\n",
    "# Paso 1: escribe una línea de código que solicite al usuario\n",
    "# reemplazar el número de en medio con un número entero ingresado por el usuario.\n",
    "\n",
    "# Paso 2: escribe aquí una línea de código que elimine el último elemento de la lista.\n",
    "\n",
    "# Paso 3: escribe aquí una línea de código que imprima la longitud de la lista existente.\n",
    "\n",
    "print(hat_list)"
   ]
  },
  {
   "cell_type": "code",
   "execution_count": null,
   "metadata": {},
   "outputs": [],
   "source": [
    "numero=int(input('Ingrese un numero entero'))\n",
    "hat_list = [1, 2, 3, 4, 5]\n",
    "\n",
    "hat_list [-3] = numero\n",
    "\n"
   ]
  },
  {
   "cell_type": "markdown",
   "metadata": {},
   "source": [
    "# nuevo"
   ]
  },
  {
   "cell_type": "code",
   "execution_count": 1,
   "metadata": {},
   "outputs": [
    {
     "data": {
      "text/plain": [
       "['Arcadia', True, 'Agapito', 9, 9.8, 10.0]"
      ]
     },
     "execution_count": 1,
     "metadata": {},
     "output_type": "execute_result"
    }
   ],
   "source": [
    "lista = ['Arcadia', True, 'Agapito',9,9.8,10.]\n",
    "lista"
   ]
  },
  {
   "cell_type": "code",
   "execution_count": 4,
   "metadata": {},
   "outputs": [
    {
     "data": {
      "text/plain": [
       "['Arcadia', True, 'Agapito', 9, 9.8, 10.0, 'Monico']"
      ]
     },
     "execution_count": 4,
     "metadata": {},
     "output_type": "execute_result"
    }
   ],
   "source": [
    "lista.append('Monico')\n",
    "lista"
   ]
  },
  {
   "cell_type": "code",
   "execution_count": 5,
   "metadata": {},
   "outputs": [
    {
     "name": "stdout",
     "output_type": "stream",
     "text": [
      "['Arcadia', True, 'Agapito', 9, 9.8, 10.0, 'Monico', [1, 2, 3, 4, 5]]\n"
     ]
    }
   ],
   "source": [
    "n = len(lista) - 1\n",
    "lista.append([1,2,3,4,5])\n",
    "len(lista)\n",
    "print(lista)"
   ]
  },
  {
   "cell_type": "code",
   "execution_count": 6,
   "metadata": {},
   "outputs": [
    {
     "data": {
      "text/plain": [
       "[1, 2, 3, 4, 5]"
      ]
     },
     "execution_count": 6,
     "metadata": {},
     "output_type": "execute_result"
    }
   ],
   "source": [
    "lista[-1]"
   ]
  },
  {
   "cell_type": "code",
   "execution_count": 7,
   "metadata": {},
   "outputs": [
    {
     "data": {
      "text/plain": [
       "[1, 2, 3, 4, 5]"
      ]
     },
     "execution_count": 7,
     "metadata": {},
     "output_type": "execute_result"
    }
   ],
   "source": [
    "lista[7]"
   ]
  },
  {
   "cell_type": "code",
   "execution_count": 8,
   "metadata": {},
   "outputs": [
    {
     "data": {
      "text/plain": [
       "[1, 2, 3, 4, 5]"
      ]
     },
     "execution_count": 8,
     "metadata": {},
     "output_type": "execute_result"
    }
   ],
   "source": [
    "n = len(lista) - 1\n",
    "lista[n]"
   ]
  },
  {
   "cell_type": "code",
   "execution_count": 9,
   "metadata": {},
   "outputs": [
    {
     "data": {
      "text/plain": [
       "3"
      ]
     },
     "execution_count": 9,
     "metadata": {},
     "output_type": "execute_result"
    }
   ],
   "source": [
    "lista[7][2]\n",
    "lista[-1][-3]"
   ]
  },
  {
   "cell_type": "code",
   "execution_count": null,
   "metadata": {},
   "outputs": [],
   "source": [
    "lista2 = []\n",
    "\n",
    "for i in range(10):\n",
    "    lista2.append(i+1)\n",
    "    print(my_list)"
   ]
  },
  {
   "cell_type": "markdown",
   "metadata": {},
   "source": [
    "## Haciendo uso de las listas"
   ]
  },
  {
   "cell_type": "code",
   "execution_count": 11,
   "metadata": {},
   "outputs": [
    {
     "name": "stdout",
     "output_type": "stream",
     "text": [
      "la lista es: [4, 5] y la suma de los valores es: 9\n"
     ]
    }
   ],
   "source": [
    "# sumar los valores que estan contenidos en una lista\n",
    "\n",
    "#1. Solicitar cuantos numeros van a ser ingresados a la lista \n",
    "n = int(input('introduce el total de valores para la lista'))\n",
    "#2. Llenar la lista con valores numericos introduccidos por el usuario\n",
    "numeros = []\n",
    "for i in range(n):\n",
    "    n = int(input(f'Introduce el valor numerico {i+1}'))\n",
    "    numeros.append(n)\n",
    "#3. Sumar los datos que estan en la lista \n",
    "suma = 0\n",
    "\n",
    "for i in numeros:\n",
    "    suma+=i\n",
    "#4.Imprimir la lista y su suma\n",
    "\n",
    "print(f'la lista es: {numeros} y la suma de los valores es: {suma}')"
   ]
  },
  {
   "cell_type": "code",
   "execution_count": 12,
   "metadata": {},
   "outputs": [],
   "source": [
    "def solicitarTamanio():\n",
    "    n = int(input('Introduce el total de valores para la lista'))\n",
    "    return n"
   ]
  },
  {
   "cell_type": "code",
   "execution_count": 13,
   "metadata": {},
   "outputs": [],
   "source": [
    "def llenarValores(numeros, n):\n",
    "    for i in range(n):\n",
    "        n = int(input(f'Introduce el valor numero {i+1}'))\n",
    "        numeros.append(n)\n"
   ]
  },
  {
   "cell_type": "code",
   "execution_count": 18,
   "metadata": {},
   "outputs": [],
   "source": [
    "def sumar(numeros):\n",
    "    suma = 0\n",
    "    for i in numeros:\n",
    "        suma+=i\n",
    "    return suma"
   ]
  },
  {
   "cell_type": "code",
   "execution_count": 15,
   "metadata": {},
   "outputs": [],
   "source": [
    "def imprimir(numeros, suma):\n",
    "    print(f'La lista es: {numeros} y la suma de los valores es: {suma}')"
   ]
  },
  {
   "cell_type": "code",
   "execution_count": 19,
   "metadata": {},
   "outputs": [
    {
     "name": "stdout",
     "output_type": "stream",
     "text": [
      "La lista es: [5, 4] y la suma de los valores es: 9\n"
     ]
    }
   ],
   "source": [
    "n = solicitarTamanio()\n",
    "lista3 = []\n",
    "llenarValores(lista3,n)\n",
    "suma = sumar (lista3)\n",
    "imprimir(lista3,suma)"
   ]
  },
  {
   "cell_type": "code",
   "execution_count": 20,
   "metadata": {},
   "outputs": [
    {
     "name": "stdout",
     "output_type": "stream",
     "text": [
      "1 1\n"
     ]
    }
   ],
   "source": [
    "variable1 = 1\n",
    "variable2 = 2\n",
    "\n",
    "aux = variable2\n",
    "\n",
    "variable2 = variable1\n",
    "\n",
    "variable1 = aux\n",
    "\n",
    "print(variable1, variable2)"
   ]
  },
  {
   "cell_type": "code",
   "execution_count": null,
   "metadata": {},
   "outputs": [],
   "source": [
    "variable1 = 1\n",
    "variable2 = 2\n",
    "\n",
    "valiable1, variable2 = variable2, variable1\n",
    "\n",
    "print(variable1, variable2)"
   ]
  },
  {
   "cell_type": "code",
   "execution_count": 4,
   "metadata": {},
   "outputs": [
    {
     "name": "stdout",
     "output_type": "stream",
     "text": [
      "[5, 3, 8, 1, 10]\n"
     ]
    }
   ],
   "source": [
    "#Reinvertir el orden de la tabla\n",
    "\n",
    "my_lista = [10,1,8,3,5]\n",
    "\n",
    "my_lista[0], my_lista[1], my_lista[4], my_lista[3] = my_lista[4], my_lista[3], my_lista[0], my_lista[1]\n",
    "\n",
    "print (my_lista)"
   ]
  },
  {
   "cell_type": "markdown",
   "metadata": {},
   "source": [
    "## LAB   Los fundamentos de las listas: los Beatles\n",
    "\n",
    "\n",
    "\n",
    "Los Beatles fueron uno de los grupos de música más populares de la década de 1960 y la banda más vendida en la historia. Algunas personas los consideran el acto más influyente de la era del rock. De hecho, se incluyeron en la compilación de la revista Time de las 100 personas más influyentes del siglo XX.\n",
    "\n",
    "La banda sufrió muchos cambios de formación, que culminaron en 1962 con la formación de John Lennon, Paul McCartney, George Harrison y Richard Starkey (mejor conocido como Ringo Starr).\n",
    "\n",
    "\n",
    "Escribe un programa que refleje estos cambios y le permita practicar con el concepto de listas. Tu tarea es:\n",
    "\n",
    "- paso 1: crea una lista vacía llamada beatles;\n",
    "- paso 2: emplea el método append() para agregar los siguientes miembros de la banda a la lista: John Lennon, Paul McCartney y George Harrison;\n",
    "- paso 3: emplea el buclefor y el append() para pedirle al usuario que agregue los siguientes miembros de la banda a la lista: Stu Sutcliffe, y Pete Best;\n",
    "- paso 4: usa la instrucción del para eliminar a Stu Sutcliffe y Pete Best de la lista;\n",
    "- paso 5: usa el método insert() para agregar a Ringo Starr al principio de la lista.\n",
    "\n",
    "Por cierto, ¿eres fan de los Beatles? (Los Beatles son una de las bandas favoritas de Greg. Pero espera...¿Quién es Greg?)"
   ]
  },
  {
   "cell_type": "code",
   "execution_count": 8,
   "metadata": {},
   "outputs": [
    {
     "name": "stdout",
     "output_type": "stream",
     "text": [
      "Los Fav 2\n"
     ]
    }
   ],
   "source": [
    "# paso 1\n",
    "beatles = []\n",
    "# paso 2\n",
    "beatles.append('John Lennon, Paul McCartney, George Harrison')\n",
    "print(\"Paso 2:\", beatles)\n",
    "# paso 3\n",
    "for i in range(2):\n",
    "    nombre = input('Introducce los nombres')\n",
    "    beatles.append(nombre)\n",
    "    print(\"Paso 3:\", beatles)\n",
    "# paso 4\n",
    "del beatles[-1]\n",
    "del beatles[-2]\n",
    "print(\"Paso 4:\", beatles)\n",
    "# paso 5\n",
    "beatles.insert(0, 'Ringo Starr')\n",
    "print(\"Paso 5:\", beatles)\n",
    "# probando la longitud de la lista\n",
    "print(\"Los Fav\", len(beatles))"
   ]
  }
 ],
 "metadata": {
  "kernelspec": {
   "display_name": "Python 3",
   "language": "python",
   "name": "python3"
  },
  "language_info": {
   "codemirror_mode": {
    "name": "ipython",
    "version": 3
   },
   "file_extension": ".py",
   "mimetype": "text/x-python",
   "name": "python",
   "nbconvert_exporter": "python",
   "pygments_lexer": "ipython3",
   "version": "3.12.3"
  }
 },
 "nbformat": 4,
 "nbformat_minor": 2
}
